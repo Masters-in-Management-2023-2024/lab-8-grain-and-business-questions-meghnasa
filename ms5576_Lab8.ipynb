{
  "cells": [
    {
      "cell_type": "markdown",
      "metadata": {
        "id": "lf10pzRKHV2X"
      },
      "source": [
        "# Diamond Company Analytics Challenge\n",
        "\n",
        "**Time:** 35 minutes\n",
        "\n",
        "**Scenario:** You are the new data analyst at a prestigious diamond company. The CEO has called an urgent meeting and needs answers to critical business questions about the inventory.\n",
        "\n",
        "**Your Mission:** Analyze the diamond inventory data and provide insights to guide strategic decisions."
      ]
    },
    {
      "cell_type": "code",
      "execution_count": 1,
      "metadata": {
        "colab": {
          "base_uri": "https://localhost:8080/"
        },
        "id": "-iUu_45lHV2a",
        "outputId": "dce81732-c75c-4300-9fc7-8c0d5301ca0e"
      },
      "outputs": [
        {
          "output_type": "stream",
          "name": "stdout",
          "text": [
            "Loading diamonds dataset...\n",
            "Dataset loaded successfully!\n"
          ]
        }
      ],
      "source": [
        "import polars as pl\n",
        "\n",
        "# Load the diamonds dataset\n",
        "print(\"Loading diamonds dataset...\")\n",
        "df = pl.read_csv('https://raw.githubusercontent.com/pycaret/pycaret/master/datasets/diamond.csv')\n",
        "print(\"Dataset loaded successfully!\")"
      ]
    },
    {
      "cell_type": "markdown",
      "metadata": {
        "id": "Y-SljQC-HV2c"
      },
      "source": [
        "## Section 1: Initial Inventory Assessment (5 minutes)\n",
        "\n",
        "The CEO walks in: \"Before we dive into specifics, I need to understand what we're working with. Give me the basics about our inventory database.\""
      ]
    },
    {
      "cell_type": "markdown",
      "metadata": {
        "id": "uzjoKL0-HV2c"
      },
      "source": [
        "### Question 1: \"How extensive is our inventory database?\"\n",
        "\n",
        "The CEO needs to know the scale of data you're analyzing."
      ]
    },
    {
      "cell_type": "code",
      "execution_count": 2,
      "metadata": {
        "colab": {
          "base_uri": "https://localhost:8080/"
        },
        "id": "UKKos0dlHV2c",
        "outputId": "394f2fbc-9732-4236-9f28-d8375d234f98"
      },
      "outputs": [
        {
          "output_type": "stream",
          "name": "stdout",
          "text": [
            "Shape: (6000, 8)\n"
          ]
        }
      ],
      "source": [
        "# Your code here:\n",
        "\n",
        "print(f\"Shape: {df.shape}\")"
      ]
    },
    {
      "cell_type": "markdown",
      "metadata": {
        "id": "csuYGKfQHV2d"
      },
      "source": [
        "### Question 2: \"What information do we track about each diamond?\"\n",
        "\n",
        "List all the characteristics we record."
      ]
    },
    {
      "cell_type": "code",
      "execution_count": 3,
      "metadata": {
        "colab": {
          "base_uri": "https://localhost:8080/"
        },
        "id": "xcwNyKO-HV2d",
        "outputId": "12b53733-3c72-40f5-b50b-63667869ef3e"
      },
      "outputs": [
        {
          "output_type": "stream",
          "name": "stdout",
          "text": [
            "Columns: ['Carat Weight', 'Cut', 'Color', 'Clarity', 'Polish', 'Symmetry', 'Report', 'Price']\n"
          ]
        }
      ],
      "source": [
        "# Your code here:\n",
        "print(f\"Columns: {df.columns}\")"
      ]
    },
    {
      "cell_type": "markdown",
      "metadata": {
        "id": "NlVHyiNlHV2e"
      },
      "source": [
        "### Question 3: \"When I look at one line in this database, what am I looking at?\"\n",
        "\n",
        "Explain in business terms:"
      ]
    },
    {
      "cell_type": "markdown",
      "metadata": {
        "id": "44Kri1FSHV2e"
      },
      "source": [
        "**Your answer:** Each row represents:\n",
        "\n",
        "> It represents one diamond in the inventory and the characteristics of that diamond.\n",
        "\n"
      ]
    },
    {
      "cell_type": "markdown",
      "metadata": {
        "id": "9CFa1xpkHV2e"
      },
      "source": [
        "## Section 2: Strategic Business Questions (20 minutes)\n",
        "\n",
        "The CEO continues: \"Now let's get to the important questions. Our board meeting is tomorrow and I need concrete numbers.\""
      ]
    },
    {
      "cell_type": "markdown",
      "metadata": {
        "id": "IkhbXhHbHV2f"
      },
      "source": [
        "### Question 4: \"We're considering expanding our storage facilities. How many total carats do we have in inventory? I need to know if our vaults can handle the weight.\"\n",
        "\n",
        "Think about what measurement would help answer this."
      ]
    },
    {
      "cell_type": "code",
      "execution_count": 4,
      "metadata": {
        "colab": {
          "base_uri": "https://localhost:8080/"
        },
        "id": "tuTvivwMHV2f",
        "outputId": "b3149fce-f5cd-44aa-ddfd-54d3a4c90f4a"
      },
      "outputs": [
        {
          "output_type": "stream",
          "name": "stdout",
          "text": [
            "Total carats: 8007.120000000001\n"
          ]
        }
      ],
      "source": [
        "# Your code here:\n",
        "\n",
        "print(f\"Total carats: {df['Carat Weight'].sum()}\")\n"
      ]
    },
    {
      "cell_type": "markdown",
      "metadata": {
        "id": "trQKNL5hHV2f"
      },
      "source": [
        "### Question 5: \"Our new marketing campaign claims we have 'the widest variety of cuts in the industry.' Can you verify this?\"\n",
        "\n",
        "The CEO wants to know about variety, not quantity."
      ]
    },
    {
      "cell_type": "code",
      "execution_count": 5,
      "metadata": {
        "colab": {
          "base_uri": "https://localhost:8080/"
        },
        "id": "vzDYR0kAHV2g",
        "outputId": "45ceb38b-c494-4106-ca78-c1fbc5a41fbf"
      },
      "outputs": [
        {
          "output_type": "stream",
          "name": "stdout",
          "text": [
            "Unique cuts: shape: (5,)\n",
            "Series: 'Cut' [str]\n",
            "[\n",
            "\t\"Very Good\"\n",
            "\t\"Fair\"\n",
            "\t\"Good\"\n",
            "\t\"Signature-Ideal\"\n",
            "\t\"Ideal\"\n",
            "]\n"
          ]
        }
      ],
      "source": [
        "# Your code here:\n",
        "\n",
        "Unique_cuts = df['Cut'].unique()\n",
        "print(f\"Unique cuts: {Unique_cuts}\")"
      ]
    },
    {
      "cell_type": "markdown",
      "metadata": {
        "id": "BPNiI5snHV2g"
      },
      "source": [
        "### Question 6: \"I'm meeting with our insurance company. They need to know our price exposure - what's our most and least valuable diamond?\""
      ]
    },
    {
      "cell_type": "code",
      "execution_count": 6,
      "metadata": {
        "colab": {
          "base_uri": "https://localhost:8080/"
        },
        "id": "6pNL3MCkHV2g",
        "outputId": "db9ed48d-0b65-498d-e47d-d16299dd3549"
      },
      "outputs": [
        {
          "output_type": "stream",
          "name": "stdout",
          "text": [
            "Most expensive diamond: 101561\n",
            "Least expensive diamond: 2184\n"
          ]
        }
      ],
      "source": [
        "# Your code here:\n",
        "\n",
        "Mostexpensive_diamond = df[\"Price\"].max()\n",
        "print(f\"Most expensive diamond: {Mostexpensive_diamond}\")\n",
        "\n",
        "Leastexpensive_diamond = df[\"Price\"].min()\n",
        "print(f\"Least expensive diamond: {Leastexpensive_diamond}\")"
      ]
    },
    {
      "cell_type": "markdown",
      "metadata": {
        "id": "it4Ax9jvHV2h"
      },
      "source": [
        "### Question 7: \"Which color grades should we focus on in our premium line? I need typical prices across our color spectrum.\"\n",
        "\n",
        "The CEO wants to understand pricing patterns."
      ]
    },
    {
      "cell_type": "code",
      "execution_count": 7,
      "metadata": {
        "colab": {
          "base_uri": "https://localhost:8080/",
          "height": 286
        },
        "id": "GSNwwRVYHV2h",
        "outputId": "21c7241b-6de5-44c0-8e8f-42aeb452a902"
      },
      "outputs": [
        {
          "output_type": "execute_result",
          "data": {
            "text/plain": [
              "shape: (6, 2)\n",
              "┌───────┬───────────────┐\n",
              "│ Color ┆ Average Price │\n",
              "│ ---   ┆ ---           │\n",
              "│ str   ┆ f64           │\n",
              "╞═══════╪═══════════════╡\n",
              "│ D     ┆ 15255.783661  │\n",
              "│ E     ┆ 11539.190231  │\n",
              "│ I     ┆ 8989.636364   │\n",
              "│ F     ┆ 12712.241856  │\n",
              "│ H     ┆ 10487.347544  │\n",
              "│ G     ┆ 12520.050633  │\n",
              "└───────┴───────────────┘"
            ],
            "text/html": [
              "<div><style>\n",
              ".dataframe > thead > tr,\n",
              ".dataframe > tbody > tr {\n",
              "  text-align: right;\n",
              "  white-space: pre-wrap;\n",
              "}\n",
              "</style>\n",
              "<small>shape: (6, 2)</small><table border=\"1\" class=\"dataframe\"><thead><tr><th>Color</th><th>Average Price</th></tr><tr><td>str</td><td>f64</td></tr></thead><tbody><tr><td>&quot;D&quot;</td><td>15255.783661</td></tr><tr><td>&quot;E&quot;</td><td>11539.190231</td></tr><tr><td>&quot;I&quot;</td><td>8989.636364</td></tr><tr><td>&quot;F&quot;</td><td>12712.241856</td></tr><tr><td>&quot;H&quot;</td><td>10487.347544</td></tr><tr><td>&quot;G&quot;</td><td>12520.050633</td></tr></tbody></table></div>"
            ]
          },
          "metadata": {},
          "execution_count": 7
        }
      ],
      "source": [
        "# Your code here:\n",
        "\n",
        "pricing_patterns = df.group_by(\"Color\").agg(pl.col(\"Price\").mean().alias(\"Average Price\"))\n",
        "\n",
        "pricing_patterns\n"
      ]
    },
    {
      "cell_type": "markdown",
      "metadata": {
        "id": "C5_NbSW_HV2h"
      },
      "source": [
        "**Reflection:** After analyzing by color, how has your view of the data changed? What does each row in your result represent now?"
      ]
    },
    {
      "cell_type": "markdown",
      "metadata": {
        "id": "nXTwUEz6HV2h"
      },
      "source": [
        "**Your answer:** New grain = Each row represents a color and the average price of diamonds with that color.\n"
      ]
    },
    {
      "cell_type": "markdown",
      "metadata": {
        "id": "ZJIiYg8CHV2h"
      },
      "source": [
        "## Section 3: Advanced Strategic Analysis (10 minutes)\n",
        "\n",
        "The CEO leans forward: \"These next questions will shape our strategy for next year.\""
      ]
    },
    {
      "cell_type": "markdown",
      "metadata": {
        "id": "qNtyMV_AHV2i"
      },
      "source": [
        "### Question 8: \"We're thinking of specializing in certain clarity grades. For our investor deck, I need a complete breakdown showing: how many diamonds we have in each clarity grade, their typical price, and the total carats we're holding for each grade.\""
      ]
    },
    {
      "cell_type": "code",
      "execution_count": 8,
      "metadata": {
        "colab": {
          "base_uri": "https://localhost:8080/",
          "height": 318
        },
        "id": "MpxImLDEHV2i",
        "outputId": "5b52d9ce-6521-4133-89ea-eb74860eb24b"
      },
      "outputs": [
        {
          "output_type": "execute_result",
          "data": {
            "text/plain": [
              "shape: (7, 4)\n",
              "┌─────────┬──────────────┬──────────────┬───────┐\n",
              "│ Clarity ┆ Price        ┆ Carat Weight ┆ Count │\n",
              "│ ---     ┆ ---          ┆ ---          ┆ ---   │\n",
              "│ str     ┆ f64          ┆ f64          ┆ u32   │\n",
              "╞═════════╪══════════════╪══════════════╪═══════╡\n",
              "│ VVS1    ┆ 16845.680702 ┆ 389.43       ┆ 7     │\n",
              "│ FL      ┆ 63776.0      ┆ 7.87         ┆ 7     │\n",
              "│ SI1     ┆ 8018.864012  ┆ 2563.69      ┆ 7     │\n",
              "│ VS1     ┆ 13694.113255 ┆ 1682.74      ┆ 7     │\n",
              "│ VS2     ┆ 11809.053333 ┆ 2170.81      ┆ 7     │\n",
              "│ IF      ┆ 22105.844749 ┆ 316.0        ┆ 7     │\n",
              "│ VVS2    ┆ 14142.177177 ┆ 876.58       ┆ 7     │\n",
              "└─────────┴──────────────┴──────────────┴───────┘"
            ],
            "text/html": [
              "<div><style>\n",
              ".dataframe > thead > tr,\n",
              ".dataframe > tbody > tr {\n",
              "  text-align: right;\n",
              "  white-space: pre-wrap;\n",
              "}\n",
              "</style>\n",
              "<small>shape: (7, 4)</small><table border=\"1\" class=\"dataframe\"><thead><tr><th>Clarity</th><th>Price</th><th>Carat Weight</th><th>Count</th></tr><tr><td>str</td><td>f64</td><td>f64</td><td>u32</td></tr></thead><tbody><tr><td>&quot;VVS1&quot;</td><td>16845.680702</td><td>389.43</td><td>7</td></tr><tr><td>&quot;FL&quot;</td><td>63776.0</td><td>7.87</td><td>7</td></tr><tr><td>&quot;SI1&quot;</td><td>8018.864012</td><td>2563.69</td><td>7</td></tr><tr><td>&quot;VS1&quot;</td><td>13694.113255</td><td>1682.74</td><td>7</td></tr><tr><td>&quot;VS2&quot;</td><td>11809.053333</td><td>2170.81</td><td>7</td></tr><tr><td>&quot;IF&quot;</td><td>22105.844749</td><td>316.0</td><td>7</td></tr><tr><td>&quot;VVS2&quot;</td><td>14142.177177</td><td>876.58</td><td>7</td></tr></tbody></table></div>"
            ]
          },
          "metadata": {},
          "execution_count": 8
        }
      ],
      "source": [
        "# Your code here:\n",
        "\n",
        "clarity_breakdown = df.group_by(\"Clarity\").agg(pl.col(\"Price\").mean(), pl.col(\"Carat Weight\").sum()\n",
        "  ).with_columns(pl.col(\"Clarity\").count().alias(\"Count\"))\n",
        "\n",
        "clarity_breakdown\n"
      ]
    },
    {
      "cell_type": "markdown",
      "metadata": {
        "id": "SjR_FZ7UHV2i"
      },
      "source": [
        "### Question 9: \"My luxury competitor claims they have the best prices for every cut-color combination. Show me our pricing structure across these combinations - I want to see where we're competitive.\""
      ]
    },
    {
      "cell_type": "code",
      "execution_count": 9,
      "metadata": {
        "colab": {
          "base_uri": "https://localhost:8080/",
          "height": 443
        },
        "id": "W6UaTeODHV2i",
        "outputId": "7dc5ecfe-8364-4824-d6ed-3bb28949b968"
      },
      "outputs": [
        {
          "output_type": "execute_result",
          "data": {
            "text/plain": [
              "shape: (30, 3)\n",
              "┌───────────┬───────┬──────────────┐\n",
              "│ Cut       ┆ Color ┆ Price        │\n",
              "│ ---       ┆ ---   ┆ ---          │\n",
              "│ str       ┆ str   ┆ f64          │\n",
              "╞═══════════╪═══════╪══════════════╡\n",
              "│ Good      ┆ E     ┆ 8969.545455  │\n",
              "│ Very Good ┆ E     ┆ 12101.910217 │\n",
              "│ Ideal     ┆ I     ┆ 9459.588378  │\n",
              "│ Ideal     ┆ H     ┆ 11527.700873 │\n",
              "│ Ideal     ┆ D     ┆ 18461.953571 │\n",
              "│ …         ┆ …     ┆ …            │\n",
              "│ Good      ┆ G     ┆ 9988.614865  │\n",
              "│ Ideal     ┆ E     ┆ 12647.107914 │\n",
              "│ Fair      ┆ F     ┆ 6063.625     │\n",
              "│ Very Good ┆ G     ┆ 12354.013841 │\n",
              "│ Fair      ┆ I     ┆ 4573.1875    │\n",
              "└───────────┴───────┴──────────────┘"
            ],
            "text/html": [
              "<div><style>\n",
              ".dataframe > thead > tr,\n",
              ".dataframe > tbody > tr {\n",
              "  text-align: right;\n",
              "  white-space: pre-wrap;\n",
              "}\n",
              "</style>\n",
              "<small>shape: (30, 3)</small><table border=\"1\" class=\"dataframe\"><thead><tr><th>Cut</th><th>Color</th><th>Price</th></tr><tr><td>str</td><td>str</td><td>f64</td></tr></thead><tbody><tr><td>&quot;Good&quot;</td><td>&quot;E&quot;</td><td>8969.545455</td></tr><tr><td>&quot;Very Good&quot;</td><td>&quot;E&quot;</td><td>12101.910217</td></tr><tr><td>&quot;Ideal&quot;</td><td>&quot;I&quot;</td><td>9459.588378</td></tr><tr><td>&quot;Ideal&quot;</td><td>&quot;H&quot;</td><td>11527.700873</td></tr><tr><td>&quot;Ideal&quot;</td><td>&quot;D&quot;</td><td>18461.953571</td></tr><tr><td>&hellip;</td><td>&hellip;</td><td>&hellip;</td></tr><tr><td>&quot;Good&quot;</td><td>&quot;G&quot;</td><td>9988.614865</td></tr><tr><td>&quot;Ideal&quot;</td><td>&quot;E&quot;</td><td>12647.107914</td></tr><tr><td>&quot;Fair&quot;</td><td>&quot;F&quot;</td><td>6063.625</td></tr><tr><td>&quot;Very Good&quot;</td><td>&quot;G&quot;</td><td>12354.013841</td></tr><tr><td>&quot;Fair&quot;</td><td>&quot;I&quot;</td><td>4573.1875</td></tr></tbody></table></div>"
            ]
          },
          "metadata": {},
          "execution_count": 9
        }
      ],
      "source": [
        "# Your code here:\n",
        "\n",
        "pricing_structure = df.group_by([\"Cut\", \"Color\"]).agg(pl.col(\"Price\").mean())\n",
        "\n",
        "pricing_structure\n"
      ]
    },
    {
      "cell_type": "markdown",
      "metadata": {
        "id": "2tgYewc_HV2j"
      },
      "source": [
        "**Reflection:** How specific is your analysis now? What level of detail does each row represent?"
      ]
    },
    {
      "cell_type": "markdown",
      "metadata": {
        "id": "v2FSvjxQHV2j"
      },
      "source": [
        "**Your answer:** New grain = Each row represents the average price for each cut / color of diamond"
      ]
    },
    {
      "cell_type": "markdown",
      "metadata": {
        "id": "_A6gDQxYHV2j"
      },
      "source": [
        "### Question 10: URGENT - \"Our biggest client is interested in purchasing entire inventory segments. They asked: 'Which color-cut combinations represent your highest total inventory value?' Show me the top 5 most valuable inventory segments by total worth, and include how many diamonds are in each segment.\"\n",
        "\n",
        "This is critical for tomorrow's negotiation."
      ]
    },
    {
      "cell_type": "code",
      "execution_count": null,
      "metadata": {
        "colab": {
          "base_uri": "https://localhost:8080/",
          "height": 255
        },
        "id": "CVbx0tXqHV2j",
        "outputId": "2ad19bfe-13c6-48b1-d6f5-589e50d73102"
      },
      "outputs": [
        {
          "output_type": "execute_result",
          "data": {
            "text/plain": [
              "shape: (5, 3)\n",
              "┌───────┬───────────┬─────────┐\n",
              "│ Color ┆ Cut       ┆ Price   │\n",
              "│ ---   ┆ ---       ┆ ---     │\n",
              "│ str   ┆ str       ┆ i64     │\n",
              "╞═══════╪═══════════╪═════════╡\n",
              "│ H     ┆ Ideal     ┆ 5279687 │\n",
              "│ F     ┆ Ideal     ┆ 5346782 │\n",
              "│ F     ┆ Very Good ┆ 5648327 │\n",
              "│ G     ┆ Very Good ┆ 7140620 │\n",
              "│ G     ┆ Ideal     ┆ 9363514 │\n",
              "└───────┴───────────┴─────────┘"
            ],
            "text/html": [
              "<div><style>\n",
              ".dataframe > thead > tr,\n",
              ".dataframe > tbody > tr {\n",
              "  text-align: right;\n",
              "  white-space: pre-wrap;\n",
              "}\n",
              "</style>\n",
              "<small>shape: (5, 3)</small><table border=\"1\" class=\"dataframe\"><thead><tr><th>Color</th><th>Cut</th><th>Price</th></tr><tr><td>str</td><td>str</td><td>i64</td></tr></thead><tbody><tr><td>&quot;H&quot;</td><td>&quot;Ideal&quot;</td><td>5279687</td></tr><tr><td>&quot;F&quot;</td><td>&quot;Ideal&quot;</td><td>5346782</td></tr><tr><td>&quot;F&quot;</td><td>&quot;Very Good&quot;</td><td>5648327</td></tr><tr><td>&quot;G&quot;</td><td>&quot;Very Good&quot;</td><td>7140620</td></tr><tr><td>&quot;G&quot;</td><td>&quot;Ideal&quot;</td><td>9363514</td></tr></tbody></table></div>"
            ]
          },
          "metadata": {},
          "execution_count": 29
        }
      ],
      "source": [
        "# Your code here:\n",
        "\n",
        "color_cut_value = df.group_by([\"Color\", \"Cut\"]).agg(pl.col(\"Price\").sum())\n",
        "\n",
        "color_cut_value.sort(\"Price\").tail(5)"
      ]
    },
    {
      "cell_type": "markdown",
      "metadata": {
        "id": "3FQw388iHV2j"
      },
      "source": [
        "## Debrief\n",
        "\n",
        "Congratulations! You've just completed your first day as the diamond company's data analyst.\n",
        "\n",
        "Remember:\n",
        "- CEOs speak in business language, not technical terms\n",
        "- Always understand what each row represents before analyzing\n",
        "- Business questions contain clues about which operations to use"
      ]
    }
  ],
  "metadata": {
    "kernelspec": {
      "display_name": "Python 3",
      "language": "python",
      "name": "python3"
    },
    "language_info": {
      "codemirror_mode": {
        "name": "ipython",
        "version": 3
      },
      "file_extension": ".py",
      "mimetype": "text/x-python",
      "name": "python",
      "nbconvert_exporter": "python",
      "pygments_lexer": "ipython3",
      "version": "3.12.0"
    },
    "colab": {
      "provenance": []
    }
  },
  "nbformat": 4,
  "nbformat_minor": 0
}